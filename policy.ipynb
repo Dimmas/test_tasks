{
  "nbformat": 4,
  "nbformat_minor": 0,
  "metadata": {
    "colab": {
      "name": "policy.ipynb",
      "provenance": [],
      "collapsed_sections": [],
      "mount_file_id": "1yzSheLQYOznRMoCU26IlRSpbjsL0esw8",
      "authorship_tag": "ABX9TyOHMcvUomRItS9/CYN1v08Z",
      "include_colab_link": true
    },
    "kernelspec": {
      "name": "python3",
      "display_name": "Python 3"
    },
    "language_info": {
      "name": "python"
    }
  },
  "cells": [
    {
      "cell_type": "markdown",
      "metadata": {
        "id": "view-in-github",
        "colab_type": "text"
      },
      "source": [
        "<a href=\"https://colab.research.google.com/github/Dimmas/test_tasks/blob/main/policy.ipynb\" target=\"_parent\"><img src=\"https://colab.research.google.com/assets/colab-badge.svg\" alt=\"Open In Colab\"/></a>"
      ]
    },
    {
      "cell_type": "code",
      "metadata": {
        "id": "4d1iHJe67n1Q"
      },
      "source": [
        "import pandas as pd\n",
        "import numpy as np\n",
        "\n",
        "df = pd.read_csv(\"drive/MyDrive/Colab Notebooks/data.txt\", delimiter = \";\")\n",
        "features =  ['DATA_TYPE','POLICY_IS_RENEWED', 'POLICY_MIN_DRIVING_EXPERIENCE', 'VEHICLE_IN_CREDIT', 'VEHICLE_SUM_INSURED', 'CLIENT_HAS_OSAGO', 'CLIENT_HAS_DAGO', 'POLICY_PRICE_CHANGE', 'POLICY_COURT_SIGN', 'POLICY_HAS_COMPLAINTS', 'POLICY_DEDUCT_VALUE']\n",
        "policy_df = df[features]"
      ],
      "execution_count": null,
      "outputs": []
    },
    {
      "cell_type": "code",
      "metadata": {
        "colab": {
          "base_uri": "https://localhost:8080/",
          "height": 195
        },
        "id": "OeQm2-VjcBtP",
        "outputId": "13532f1d-2d0b-482c-b716-8f80b125f713"
      },
      "source": [
        "pd.set_option(\"display.max_columns\", 100)\n",
        "policy_df.groupby([\"POLICY_IS_RENEWED\"]).describe(percentiles=[])"
      ],
      "execution_count": null,
      "outputs": [
        {
          "output_type": "execute_result",
          "data": {
            "text/html": [
              "<div>\n",
              "<style scoped>\n",
              "    .dataframe tbody tr th:only-of-type {\n",
              "        vertical-align: middle;\n",
              "    }\n",
              "\n",
              "    .dataframe tbody tr th {\n",
              "        vertical-align: top;\n",
              "    }\n",
              "\n",
              "    .dataframe thead tr th {\n",
              "        text-align: left;\n",
              "    }\n",
              "\n",
              "    .dataframe thead tr:last-of-type th {\n",
              "        text-align: right;\n",
              "    }\n",
              "</style>\n",
              "<table border=\"1\" class=\"dataframe\">\n",
              "  <thead>\n",
              "    <tr>\n",
              "      <th></th>\n",
              "      <th colspan=\"6\" halign=\"left\">POLICY_MIN_DRIVING_EXPERIENCE</th>\n",
              "      <th colspan=\"6\" halign=\"left\">VEHICLE_IN_CREDIT</th>\n",
              "      <th colspan=\"6\" halign=\"left\">VEHICLE_SUM_INSURED</th>\n",
              "      <th colspan=\"6\" halign=\"left\">CLIENT_HAS_OSAGO</th>\n",
              "      <th colspan=\"6\" halign=\"left\">CLIENT_HAS_DAGO</th>\n",
              "      <th colspan=\"6\" halign=\"left\">POLICY_PRICE_CHANGE</th>\n",
              "      <th colspan=\"6\" halign=\"left\">POLICY_COURT_SIGN</th>\n",
              "      <th colspan=\"6\" halign=\"left\">POLICY_HAS_COMPLAINTS</th>\n",
              "      <th colspan=\"6\" halign=\"left\">POLICY_DEDUCT_VALUE</th>\n",
              "    </tr>\n",
              "    <tr>\n",
              "      <th></th>\n",
              "      <th>count</th>\n",
              "      <th>mean</th>\n",
              "      <th>std</th>\n",
              "      <th>min</th>\n",
              "      <th>50%</th>\n",
              "      <th>max</th>\n",
              "      <th>count</th>\n",
              "      <th>mean</th>\n",
              "      <th>std</th>\n",
              "      <th>min</th>\n",
              "      <th>50%</th>\n",
              "      <th>max</th>\n",
              "      <th>count</th>\n",
              "      <th>mean</th>\n",
              "      <th>std</th>\n",
              "      <th>min</th>\n",
              "      <th>50%</th>\n",
              "      <th>max</th>\n",
              "      <th>count</th>\n",
              "      <th>mean</th>\n",
              "      <th>std</th>\n",
              "      <th>min</th>\n",
              "      <th>50%</th>\n",
              "      <th>max</th>\n",
              "      <th>count</th>\n",
              "      <th>mean</th>\n",
              "      <th>std</th>\n",
              "      <th>min</th>\n",
              "      <th>50%</th>\n",
              "      <th>max</th>\n",
              "      <th>count</th>\n",
              "      <th>mean</th>\n",
              "      <th>std</th>\n",
              "      <th>min</th>\n",
              "      <th>50%</th>\n",
              "      <th>max</th>\n",
              "      <th>count</th>\n",
              "      <th>mean</th>\n",
              "      <th>std</th>\n",
              "      <th>min</th>\n",
              "      <th>50%</th>\n",
              "      <th>max</th>\n",
              "      <th>count</th>\n",
              "      <th>mean</th>\n",
              "      <th>std</th>\n",
              "      <th>min</th>\n",
              "      <th>50%</th>\n",
              "      <th>max</th>\n",
              "      <th>count</th>\n",
              "      <th>mean</th>\n",
              "      <th>std</th>\n",
              "      <th>min</th>\n",
              "      <th>50%</th>\n",
              "      <th>max</th>\n",
              "    </tr>\n",
              "    <tr>\n",
              "      <th>POLICY_IS_RENEWED</th>\n",
              "      <th></th>\n",
              "      <th></th>\n",
              "      <th></th>\n",
              "      <th></th>\n",
              "      <th></th>\n",
              "      <th></th>\n",
              "      <th></th>\n",
              "      <th></th>\n",
              "      <th></th>\n",
              "      <th></th>\n",
              "      <th></th>\n",
              "      <th></th>\n",
              "      <th></th>\n",
              "      <th></th>\n",
              "      <th></th>\n",
              "      <th></th>\n",
              "      <th></th>\n",
              "      <th></th>\n",
              "      <th></th>\n",
              "      <th></th>\n",
              "      <th></th>\n",
              "      <th></th>\n",
              "      <th></th>\n",
              "      <th></th>\n",
              "      <th></th>\n",
              "      <th></th>\n",
              "      <th></th>\n",
              "      <th></th>\n",
              "      <th></th>\n",
              "      <th></th>\n",
              "      <th></th>\n",
              "      <th></th>\n",
              "      <th></th>\n",
              "      <th></th>\n",
              "      <th></th>\n",
              "      <th></th>\n",
              "      <th></th>\n",
              "      <th></th>\n",
              "      <th></th>\n",
              "      <th></th>\n",
              "      <th></th>\n",
              "      <th></th>\n",
              "      <th></th>\n",
              "      <th></th>\n",
              "      <th></th>\n",
              "      <th></th>\n",
              "      <th></th>\n",
              "      <th></th>\n",
              "      <th></th>\n",
              "      <th></th>\n",
              "      <th></th>\n",
              "      <th></th>\n",
              "      <th></th>\n",
              "      <th></th>\n",
              "    </tr>\n",
              "  </thead>\n",
              "  <tbody>\n",
              "    <tr>\n",
              "      <th>0</th>\n",
              "      <td>22756.0</td>\n",
              "      <td>38.860257</td>\n",
              "      <td>218.976747</td>\n",
              "      <td>0.0</td>\n",
              "      <td>13.0</td>\n",
              "      <td>2013.0</td>\n",
              "      <td>22755.0</td>\n",
              "      <td>0.341991</td>\n",
              "      <td>0.474387</td>\n",
              "      <td>0.0</td>\n",
              "      <td>0.0</td>\n",
              "      <td>1.0</td>\n",
              "      <td>22755.0</td>\n",
              "      <td>1.008814e+06</td>\n",
              "      <td>724868.905514</td>\n",
              "      <td>0.0</td>\n",
              "      <td>821098.0</td>\n",
              "      <td>7999900.0</td>\n",
              "      <td>22755.0</td>\n",
              "      <td>0.513030</td>\n",
              "      <td>0.499841</td>\n",
              "      <td>0.0</td>\n",
              "      <td>1.0</td>\n",
              "      <td>1.0</td>\n",
              "      <td>22755.0</td>\n",
              "      <td>0.249396</td>\n",
              "      <td>0.432673</td>\n",
              "      <td>0.0</td>\n",
              "      <td>0.0</td>\n",
              "      <td>1.0</td>\n",
              "      <td>22755.0</td>\n",
              "      <td>0.015340</td>\n",
              "      <td>1.254934</td>\n",
              "      <td>-1.0</td>\n",
              "      <td>0.0</td>\n",
              "      <td>60.02</td>\n",
              "      <td>22755.0</td>\n",
              "      <td>0.001846</td>\n",
              "      <td>0.042923</td>\n",
              "      <td>0.0</td>\n",
              "      <td>0.0</td>\n",
              "      <td>1.0</td>\n",
              "      <td>22755.0</td>\n",
              "      <td>0.008833</td>\n",
              "      <td>0.093571</td>\n",
              "      <td>0.0</td>\n",
              "      <td>0.0</td>\n",
              "      <td>1.0</td>\n",
              "      <td>22755.0</td>\n",
              "      <td>6002.285212</td>\n",
              "      <td>10635.215665</td>\n",
              "      <td>0.0</td>\n",
              "      <td>0.0</td>\n",
              "      <td>97926.0</td>\n",
              "    </tr>\n",
              "    <tr>\n",
              "      <th>1</th>\n",
              "      <td>23381.0</td>\n",
              "      <td>33.196185</td>\n",
              "      <td>191.040597</td>\n",
              "      <td>0.0</td>\n",
              "      <td>14.0</td>\n",
              "      <td>2015.0</td>\n",
              "      <td>23381.0</td>\n",
              "      <td>0.304564</td>\n",
              "      <td>0.460232</td>\n",
              "      <td>0.0</td>\n",
              "      <td>0.0</td>\n",
              "      <td>1.0</td>\n",
              "      <td>23381.0</td>\n",
              "      <td>9.617908e+05</td>\n",
              "      <td>662552.479462</td>\n",
              "      <td>0.0</td>\n",
              "      <td>800000.0</td>\n",
              "      <td>7543535.0</td>\n",
              "      <td>23381.0</td>\n",
              "      <td>0.582866</td>\n",
              "      <td>0.493096</td>\n",
              "      <td>0.0</td>\n",
              "      <td>1.0</td>\n",
              "      <td>1.0</td>\n",
              "      <td>23381.0</td>\n",
              "      <td>0.301142</td>\n",
              "      <td>0.458764</td>\n",
              "      <td>0.0</td>\n",
              "      <td>0.0</td>\n",
              "      <td>1.0</td>\n",
              "      <td>23381.0</td>\n",
              "      <td>-0.079101</td>\n",
              "      <td>0.263409</td>\n",
              "      <td>-1.0</td>\n",
              "      <td>0.0</td>\n",
              "      <td>14.04</td>\n",
              "      <td>23381.0</td>\n",
              "      <td>0.000086</td>\n",
              "      <td>0.009249</td>\n",
              "      <td>0.0</td>\n",
              "      <td>0.0</td>\n",
              "      <td>1.0</td>\n",
              "      <td>23381.0</td>\n",
              "      <td>0.005688</td>\n",
              "      <td>0.075208</td>\n",
              "      <td>0.0</td>\n",
              "      <td>0.0</td>\n",
              "      <td>1.0</td>\n",
              "      <td>23381.0</td>\n",
              "      <td>6019.415166</td>\n",
              "      <td>10286.852913</td>\n",
              "      <td>0.0</td>\n",
              "      <td>0.0</td>\n",
              "      <td>75000.0</td>\n",
              "    </tr>\n",
              "  </tbody>\n",
              "</table>\n",
              "</div>"
            ],
            "text/plain": [
              "                  POLICY_MIN_DRIVING_EXPERIENCE                              \\\n",
              "                                          count       mean         std  min   \n",
              "POLICY_IS_RENEWED                                                             \n",
              "0                                       22756.0  38.860257  218.976747  0.0   \n",
              "1                                       23381.0  33.196185  191.040597  0.0   \n",
              "\n",
              "                                VEHICLE_IN_CREDIT                           \\\n",
              "                    50%     max             count      mean       std  min   \n",
              "POLICY_IS_RENEWED                                                            \n",
              "0                  13.0  2013.0           22755.0  0.341991  0.474387  0.0   \n",
              "1                  14.0  2015.0           23381.0  0.304564  0.460232  0.0   \n",
              "\n",
              "                            VEHICLE_SUM_INSURED                               \\\n",
              "                   50%  max               count          mean            std   \n",
              "POLICY_IS_RENEWED                                                              \n",
              "0                  0.0  1.0             22755.0  1.008814e+06  724868.905514   \n",
              "1                  0.0  1.0             23381.0  9.617908e+05  662552.479462   \n",
              "\n",
              "                                            CLIENT_HAS_OSAGO            \\\n",
              "                   min       50%        max            count      mean   \n",
              "POLICY_IS_RENEWED                                                        \n",
              "0                  0.0  821098.0  7999900.0          22755.0  0.513030   \n",
              "1                  0.0  800000.0  7543535.0          23381.0  0.582866   \n",
              "\n",
              "                                           CLIENT_HAS_DAGO            \\\n",
              "                        std  min  50%  max           count      mean   \n",
              "POLICY_IS_RENEWED                                                      \n",
              "0                  0.499841  0.0  1.0  1.0         22755.0  0.249396   \n",
              "1                  0.493096  0.0  1.0  1.0         23381.0  0.301142   \n",
              "\n",
              "                                           POLICY_PRICE_CHANGE            \\\n",
              "                        std  min  50%  max               count      mean   \n",
              "POLICY_IS_RENEWED                                                          \n",
              "0                  0.432673  0.0  0.0  1.0             22755.0  0.015340   \n",
              "1                  0.458764  0.0  0.0  1.0             23381.0 -0.079101   \n",
              "\n",
              "                                             POLICY_COURT_SIGN            \\\n",
              "                        std  min  50%    max             count      mean   \n",
              "POLICY_IS_RENEWED                                                          \n",
              "0                  1.254934 -1.0  0.0  60.02           22755.0  0.001846   \n",
              "1                  0.263409 -1.0  0.0  14.04           23381.0  0.000086   \n",
              "\n",
              "                                           POLICY_HAS_COMPLAINTS            \\\n",
              "                        std  min  50%  max                 count      mean   \n",
              "POLICY_IS_RENEWED                                                            \n",
              "0                  0.042923  0.0  0.0  1.0               22755.0  0.008833   \n",
              "1                  0.009249  0.0  0.0  1.0               23381.0  0.005688   \n",
              "\n",
              "                                           POLICY_DEDUCT_VALUE               \\\n",
              "                        std  min  50%  max               count         mean   \n",
              "POLICY_IS_RENEWED                                                             \n",
              "0                  0.093571  0.0  0.0  1.0             22755.0  6002.285212   \n",
              "1                  0.075208  0.0  0.0  1.0             23381.0  6019.415166   \n",
              "\n",
              "                                                    \n",
              "                            std  min  50%      max  \n",
              "POLICY_IS_RENEWED                                   \n",
              "0                  10635.215665  0.0  0.0  97926.0  \n",
              "1                  10286.852913  0.0  0.0  75000.0  "
            ]
          },
          "metadata": {},
          "execution_count": 2
        }
      ]
    },
    {
      "cell_type": "code",
      "metadata": {
        "id": "HvQI4V0Yi6gn"
      },
      "source": [
        "%matplotlib inline\n",
        "import matplotlib.pyplot as plt\n",
        "import seaborn as sns\n",
        "\n",
        "plt.rcParams[\"figure.figsize\"] = (8, 6)"
      ],
      "execution_count": null,
      "outputs": []
    },
    {
      "cell_type": "code",
      "metadata": {
        "colab": {
          "base_uri": "https://localhost:8080/",
          "height": 407
        },
        "id": "Lxkd07B-nAn5",
        "outputId": "5c484b15-d11d-42c2-a6e1-1886f858e0c3"
      },
      "source": [
        "pd.crosstab(policy_df[\"POLICY_IS_RENEWED\"], policy_df[\"POLICY_HAS_COMPLAINTS\"], margins=True)\n",
        "sns.countplot(x=\"POLICY_HAS_COMPLAINTS\", hue=\"POLICY_IS_RENEWED\", data=policy_df)"
      ],
      "execution_count": null,
      "outputs": [
        {
          "output_type": "execute_result",
          "data": {
            "text/plain": [
              "<matplotlib.axes._subplots.AxesSubplot at 0x7f2e4e32f310>"
            ]
          },
          "metadata": {},
          "execution_count": 4
        },
        {
          "output_type": "display_data",
          "data": {
            "image/png": "[encoded data removed]",
            "text/plain": [
              "<Figure size 576x432 with 1 Axes>"
            ]
          },
          "metadata": {
            "needs_background": "light"
          }
        }
      ]
    },
    {
      "cell_type": "code",
      "metadata": {
        "colab": {
          "base_uri": "https://localhost:8080/",
          "height": 407
        },
        "id": "P7xDwM8Ln4Gp",
        "outputId": "fd4e2431-ff6f-47a4-e513-384bdda18234"
      },
      "source": [
        "pd.crosstab(policy_df[\"POLICY_IS_RENEWED\"], policy_df[\"POLICY_COURT_SIGN\"], margins=True)\n",
        "sns.countplot(x=\"POLICY_COURT_SIGN\", hue=\"POLICY_IS_RENEWED\", data=policy_df)"
      ],
      "execution_count": null,
      "outputs": [
        {
          "output_type": "execute_result",
          "data": {
            "text/plain": [
              "<matplotlib.axes._subplots.AxesSubplot at 0x7f2e4cfa0950>"
            ]
          },
          "metadata": {},
          "execution_count": 5
        },
        {
          "output_type": "display_data",
          "data": {
            "image/png": "[encoded data removed]",
            "text/plain": [
              "<Figure size 576x432 with 1 Axes>"
            ]
          },
          "metadata": {
            "needs_background": "light"
          }
        }
      ]
    },
    {
      "cell_type": "code",
      "metadata": {
        "colab": {
          "base_uri": "https://localhost:8080/"
        },
        "id": "GZ-a_Awk97PI",
        "outputId": "c33fd4ce-f404-4d43-9b4f-bad63ab24ff1"
      },
      "source": [
        "policy_df = policy_df.dropna()\n",
        "\n",
        "train_df = policy_df[policy_df['DATA_TYPE'] == 'TRAIN']\n",
        "test_df = policy_df[policy_df['DATA_TYPE'] == 'TEST ']\n",
        "\n",
        "train_y = train_df['POLICY_IS_RENEWED']\n",
        "test_y = test_df['POLICY_IS_RENEWED']\n",
        "\n",
        "train_df.drop(['POLICY_IS_RENEWED', 'DATA_TYPE'], axis=1, inplace=True)\n",
        "test_df.drop(['POLICY_IS_RENEWED', 'DATA_TYPE'], axis=1, inplace=True)\n",
        "\n",
        "from sklearn.preprocessing import normalize\n",
        "normal_train_x = normalize(train_df, axis=0)"
      ],
      "execution_count": null,
      "outputs": [
        {
          "output_type": "stream",
          "name": "stderr",
          "text": [
            "/usr/local/lib/python3.7/dist-packages/pandas/core/frame.py:4174: SettingWithCopyWarning: \n",
            "A value is trying to be set on a copy of a slice from a DataFrame\n",
            "\n",
            "See the caveats in the documentation: https://pandas.pydata.org/pandas-docs/stable/user_guide/indexing.html#returning-a-view-versus-a-copy\n",
            "  errors=errors,\n"
          ]
        }
      ]
    },
    {
      "cell_type": "code",
      "metadata": {
        "id": "PWLOXRr_IQKG"
      },
      "source": [
        "from sklearn.neighbors import KNeighborsClassifier\n",
        "from sklearn.tree import DecisionTreeClassifier\n",
        "from sklearn.metrics import accuracy_score"
      ],
      "execution_count": null,
      "outputs": []
    },
    {
      "cell_type": "code",
      "metadata": {
        "colab": {
          "base_uri": "https://localhost:8080/"
        },
        "id": "zl82uU6GNtJK",
        "outputId": "934fa5e3-76d6-4498-8d75-a2b293891c6d"
      },
      "source": [
        "dtc = DecisionTreeClassifier(max_depth=6)\n",
        "dtc.fit(normal_train_x, train_y)\n",
        "\n",
        "tree_pred = dtc.predict(test_df)\n",
        "accuracy_score(test_y, tree_pred)"
      ],
      "execution_count": null,
      "outputs": [
        {
          "output_type": "execute_result",
          "data": {
            "text/plain": [
              "0.8473547267996531"
            ]
          },
          "metadata": {},
          "execution_count": 8
        }
      ]
    },
    {
      "cell_type": "code",
      "metadata": {
        "colab": {
          "base_uri": "https://localhost:8080/"
        },
        "id": "O9hIGkaqYRXj",
        "outputId": "8db83c2f-af7b-4541-f8d1-ab6e4ab549fb"
      },
      "source": [
        "knn = KNeighborsClassifier(n_neighbors=30)\n",
        "knn.fit(normal_train_x, train_y)\n",
        "\n",
        "knn_pred = knn.predict(test_df)\n",
        "accuracy_score(test_y, knn_pred)"
      ],
      "execution_count": null,
      "outputs": [
        {
          "output_type": "execute_result",
          "data": {
            "text/plain": [
              "1.0"
            ]
          },
          "metadata": {},
          "execution_count": 9
        }
      ]
    },
    {
      "cell_type": "code",
      "metadata": {
        "colab": {
          "base_uri": "https://localhost:8080/"
        },
        "id": "srXI2ClQRqpp",
        "outputId": "5bd25b3a-0da6-4d95-8546-6a5a4105aab4"
      },
      "source": [
        "from sklearn.ensemble.forest import RandomForestRegressor\n",
        "from sklearn.preprocessing import Binarizer\n",
        "\n",
        "forest = RandomForestRegressor(n_estimators=10, max_depth=6)\n",
        "forest.fit(normal_train_x, train_y)"
      ],
      "execution_count": null,
      "outputs": [
        {
          "output_type": "stream",
          "name": "stderr",
          "text": [
            "/usr/local/lib/python3.7/dist-packages/sklearn/utils/deprecation.py:144: FutureWarning: The sklearn.ensemble.forest module is  deprecated in version 0.22 and will be removed in version 0.24. The corresponding classes / functions should instead be imported from sklearn.ensemble. Anything that cannot be imported from sklearn.ensemble is now part of the private API.\n",
            "  warnings.warn(message, FutureWarning)\n"
          ]
        },
        {
          "output_type": "execute_result",
          "data": {
            "text/plain": [
              "RandomForestRegressor(bootstrap=True, ccp_alpha=0.0, criterion='mse',\n",
              "                      max_depth=6, max_features='auto', max_leaf_nodes=None,\n",
              "                      max_samples=None, min_impurity_decrease=0.0,\n",
              "                      min_impurity_split=None, min_samples_leaf=1,\n",
              "                      min_samples_split=2, min_weight_fraction_leaf=0.0,\n",
              "                      n_estimators=10, n_jobs=None, oob_score=False,\n",
              "                      random_state=None, verbose=0, warm_start=False)"
            ]
          },
          "metadata": {},
          "execution_count": 10
        }
      ]
    },
    {
      "cell_type": "code",
      "metadata": {
        "colab": {
          "base_uri": "https://localhost:8080/"
        },
        "id": "7OEYbPG_SJWC",
        "outputId": "6ed473ae-d2c7-4acf-905f-77e939476944"
      },
      "source": [
        "forest_pred = forest.predict(test_df)\n",
        "forest_pred = forest_pred.reshape(1, -1)\n",
        "binarizer = Binarizer(threshold=0.7).fit(forest_pred)\n",
        "binary_pred = binarizer.transform(forest_pred)\n",
        "accuracy_score(test_y, binary_pred[0])\n"
      ],
      "execution_count": null,
      "outputs": [
        {
          "output_type": "execute_result",
          "data": {
            "text/plain": [
              "0.9997831743278404"
            ]
          },
          "metadata": {},
          "execution_count": 11
        }
      ]
    },
    {
      "cell_type": "code",
      "metadata": {
        "colab": {
          "base_uri": "https://localhost:8080/"
        },
        "id": "GygCwzqhkarc",
        "outputId": "553e46eb-3d91-4861-b3d7-577ef27873cd"
      },
      "source": [
        "from sklearn.ensemble.forest import RandomForestClassifier\n",
        "forest = RandomForestClassifier(n_estimators=10, max_depth=6)\n",
        "forest.fit(normal_train_x, train_y)\n",
        "forest_pred = forest.predict(test_df)\n",
        "accuracy_score(test_y, forest_pred)"
      ],
      "execution_count": 22,
      "outputs": [
        {
          "output_type": "execute_result",
          "data": {
            "text/plain": [
              "0.7859930615784909"
            ]
          },
          "metadata": {},
          "execution_count": 22
        }
      ]
    },
    {
      "cell_type": "code",
      "metadata": {
        "id": "bIAIljWs28Oj"
      },
      "source": [
        ""
      ],
      "execution_count": null,
      "outputs": []
    },
    {
      "cell_type": "code",
      "metadata": {
        "id": "iiz5pI6tvnd9"
      },
      "source": [
        "import dill as pickle\n",
        "with open('drive/MyDrive/Colab Notebooks/policy_knn.pk', 'wb') as file:\n",
        "\tpickle.dump(knn, file)"
      ],
      "execution_count": null,
      "outputs": []
    },
    {
      "cell_type": "code",
      "metadata": {
        "id": "991iH-b4R5Xu"
      },
      "source": [
        "test_df.to_csv(\"test_df.csv\", index=False)\n",
        "test_y.to_csv(\"test_y.csv\", index=False)"
      ],
      "execution_count": null,
      "outputs": []
    }
  ]
}