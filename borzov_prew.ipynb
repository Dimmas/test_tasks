{
 "cells": [
  {
   "cell_type": "markdown",
   "id": "ec76d92f",
   "metadata": {},
   "source": [
    "Для отклика на вакансию предложено следующее тестовое задание:\n",
    "\n",
    "Есть SQL база с таблицами:\n",
    "1) Users(userId, age)\n",
    "2) Purchases (purchaseId, userId, itemId, date)\n",
    "3) Items (itemId, price).\n",
    "\n",
    "\n",
    "Написать SQL запросы для расчета следующих метрик:\n",
    "\n",
    "А) какую сумму в среднем в месяц тратят:\n",
    "- пользователи в возрастном диапазоне от 18 до 25 лет включительно\n",
    "- пользователи в возрастном диапазоне от 26 до 35 лет включительно\n",
    "\n",
    "Б) в каком месяце года выручка от пользователей в возрастном диапазоне 35+ самая большая\n",
    "\n",
    "В) какой товар обеспечивает дает наибольший вклад в выручку за последний год\n",
    "\n",
    "Г) топ-3 товаров по выручке и их доля в общей выручке за любой год"
   ]
  },
  {
   "cell_type": "markdown",
   "id": "b561d648",
   "metadata": {},
   "source": [
    "РЕШЕНИЕ:\n",
    "\n",
    "Наше приложение для работы будет использовать SQLAlchemy и sqlite"
   ]
  },
  {
   "cell_type": "code",
   "execution_count": 2,
   "id": "67dd2d74",
   "metadata": {},
   "outputs": [],
   "source": [
    "import random\n",
    "import time\n",
    "import datetime\n",
    "\n",
    "from sqlalchemy import Table, Column, Integer, String, MetaData, create_engine, func, or_\n",
    "from sqlalchemy.ext.declarative import declarative_base\n",
    "from sqlalchemy.orm import sessionmaker\n",
    "from sqlalchemy.schema import ForeignKey\n",
    "\n",
    "engine = create_engine('sqlite://')\n",
    "Session = sessionmaker(bind=engine)\n",
    "metadata = MetaData()\n",
    "Base = declarative_base()\n",
    "session = Session()"
   ]
  },
  {
   "cell_type": "markdown",
   "id": "4f72aba1",
   "metadata": {},
   "source": [
    "Базовый класс наших моделей"
   ]
  },
  {
   "cell_type": "code",
   "execution_count": 3,
   "id": "8d8fbedf",
   "metadata": {},
   "outputs": [],
   "source": [
    "class DB():\n",
    "    session = Session()\n",
    "    \n",
    "    def __init__(self, kwargs = False):\n",
    "        if kwargs:\n",
    "            try:\n",
    "                f = self.session.query(self._sa_instance_state.class_).filter_by(**kwargs).one_or_none()\n",
    "                self.id = f.id\n",
    "            except Exception as e:\n",
    "                print(e)\n",
    "\n",
    "\n",
    "    def save(self):\n",
    "        try:\n",
    "            self.session.commit()\n",
    "        except Exception as e:\n",
    "            print(e)\n",
    "\n",
    "            \n",
    "    def add(self):\n",
    "        if self.id:\n",
    "            return self.id\n",
    "        self.session.add(self)\n",
    "        self.save()\n",
    "        return self.id"
   ]
  },
  {
   "cell_type": "markdown",
   "id": "bb464005",
   "metadata": {},
   "source": [
    "Описание моделей:"
   ]
  },
  {
   "cell_type": "code",
   "execution_count": 4,
   "id": "e5c32559",
   "metadata": {},
   "outputs": [],
   "source": [
    "class Users(Base, DB):\n",
    "    __tablename__ = 'users'\n",
    "    id = Column(Integer, primary_key=True)\n",
    "    age = Column(Integer, nullable=False)\n",
    "    \n",
    "    \n",
    "    def add_purchase(self, itemid):\n",
    "        purchase = Purchases()\n",
    "        purchase.userid = self.id\n",
    "        purchase.itemid = itemid\n",
    "        return purchase.add()"
   ]
  },
  {
   "cell_type": "code",
   "execution_count": 5,
   "id": "21ead09e",
   "metadata": {},
   "outputs": [],
   "source": [
    "class Purchases(Base, DB):\n",
    "    __tablename__ = 'purchases'\n",
    "    id = Column(Integer, primary_key=True)\n",
    "    userid = Column(Integer, ForeignKey('users.id'))\n",
    "    itemid = Column(Integer, ForeignKey('items.id'))\n",
    "    date = Column(String, nullable=False)\n",
    "\n",
    "    \n",
    "    def add(self):\n",
    "        #to generate a date in the interval of the last 3 years\n",
    "        present_time = int(time.time())\n",
    "        past_tense = present_time - 94694400\n",
    "        date = random.randint(past_tense, present_time)\n",
    "        self.date = datetime.datetime.utcfromtimestamp(date).strftime(\"%Y-%m\")\n",
    "        return  super().add()\n",
    "        "
   ]
  },
  {
   "cell_type": "code",
   "execution_count": 6,
   "id": "0dafa2aa",
   "metadata": {},
   "outputs": [],
   "source": [
    "class Items(Base, DB):\n",
    "    __tablename__ = 'items'\n",
    "    id = Column(Integer, primary_key=True)\n",
    "    price = Column(Integer, nullable=False)"
   ]
  },
  {
   "cell_type": "markdown",
   "id": "a92a866b",
   "metadata": {},
   "source": [
    "Генерим DB из metadata:"
   ]
  },
  {
   "cell_type": "code",
   "execution_count": 7,
   "id": "3b58fa4c",
   "metadata": {},
   "outputs": [],
   "source": [
    "Base.metadata.create_all(engine)"
   ]
  },
  {
   "cell_type": "markdown",
   "id": "d2b3df13",
   "metadata": {},
   "source": [
    "Наполняем DB позициями в количестве M штук (стоимость позиции от 500 до 1000 у.е.):"
   ]
  },
  {
   "cell_type": "code",
   "execution_count": 8,
   "id": "47946791",
   "metadata": {},
   "outputs": [],
   "source": [
    "M = 100\n",
    "\n",
    "for _ in range(M):\n",
    "    item = Items()\n",
    "    item.price = random.randint(500, 1000)\n",
    "    item.add()"
   ]
  },
  {
   "cell_type": "markdown",
   "id": "7d7a45c6",
   "metadata": {},
   "source": [
    "Наполняем  N пользователями и случайным количеством покупок (от 1 до 50) на каждого:"
   ]
  },
  {
   "cell_type": "code",
   "execution_count": 9,
   "id": "8a43f849",
   "metadata": {},
   "outputs": [],
   "source": [
    "N = 1000\n",
    "for _ in range(N):\n",
    "    user = Users()\n",
    "    user.age = random.randint(14, 50)\n",
    "    user.add()\n",
    "    for _ in range(random.randint(1, 50)): #в покупке одна случайная позиция\n",
    "        user.add_purchase(random.randint(1, M))"
   ]
  },
  {
   "cell_type": "markdown",
   "id": "f0725211",
   "metadata": {},
   "source": [
    "DB готова, приступаем к data analysis:"
   ]
  },
  {
   "cell_type": "markdown",
   "id": "4425f686",
   "metadata": {
    "scrolled": true
   },
   "source": [
    "А) какую сумму в среднем в месяц тратят:\n",
    "- пользователи в возрастном диапазоне от 18 до 25 лет включительно\n",
    "- пользователи в возрастном диапазоне от 26 до 35 лет включительно"
   ]
  },
  {
   "cell_type": "code",
   "execution_count": 10,
   "id": "1d2d6d7c",
   "metadata": {},
   "outputs": [],
   "source": [
    "def average_costs(age):\n",
    "    q1 = session.query(func.avg(Items.price)).join(Purchases, Purchases.itemid == Items.id).join(Users, Purchases.userid == Users.id).filter(Users.age.in_((age))).group_by(Purchases.date)\n",
    "    return session.query(func.avg(q1))"
   ]
  },
  {
   "cell_type": "markdown",
   "id": "a3761ea4",
   "metadata": {},
   "source": [
    "Вычисляем средние траты в месяц пользователей в возрастном диапазоне от 18 до 25 лет включительно за 3 последних года:"
   ]
  },
  {
   "cell_type": "code",
   "execution_count": 11,
   "id": "6d1f2f80",
   "metadata": {},
   "outputs": [
    {
     "name": "stdout",
     "output_type": "stream",
     "text": [
      "SELECT avg((SELECT avg(items.price) AS avg_2 \n",
      "FROM items JOIN purchases ON purchases.itemid = items.id JOIN users ON purchases.userid = users.id \n",
      "WHERE users.age IN ([POSTCOMPILE_age_1]) GROUP BY purchases.date)) AS avg_1\n"
     ]
    },
    {
     "name": "stderr",
     "output_type": "stream",
     "text": [
      "/opt/conda/lib/python3.8/site-packages/sqlalchemy/sql/coercions.py:307: SAWarning: implicitly coercing SELECT object to scalar subquery; please use the .scalar_subquery() method to produce a scalar subquery.\n",
      "  util.warn(\n"
     ]
    }
   ],
   "source": [
    "query = average_costs((18,25))\n",
    "print(query)"
   ]
  },
  {
   "cell_type": "code",
   "execution_count": 12,
   "id": "95ee4331",
   "metadata": {},
   "outputs": [
    {
     "name": "stdout",
     "output_type": "stream",
     "text": [
      "656\n"
     ]
    }
   ],
   "source": [
    "print(int(query[0][0]))"
   ]
  },
  {
   "cell_type": "markdown",
   "id": "c83d9624",
   "metadata": {},
   "source": [
    "Вычисляем средние траты в месяц пользователей в возрастном диапазоне от 18 до 25 лет включительно за 3 последних года:"
   ]
  },
  {
   "cell_type": "code",
   "execution_count": 13,
   "id": "f42e4ace",
   "metadata": {},
   "outputs": [
    {
     "name": "stdout",
     "output_type": "stream",
     "text": [
      "SELECT avg((SELECT avg(items.price) AS avg_2 \n",
      "FROM items JOIN purchases ON purchases.itemid = items.id JOIN users ON purchases.userid = users.id \n",
      "WHERE users.age IN ([POSTCOMPILE_age_1]) GROUP BY purchases.date)) AS avg_1\n"
     ]
    }
   ],
   "source": [
    "query = average_costs((26,35))\n",
    "print(query)"
   ]
  },
  {
   "cell_type": "code",
   "execution_count": 14,
   "id": "cf4cf9c2",
   "metadata": {},
   "outputs": [
    {
     "name": "stdout",
     "output_type": "stream",
     "text": [
      "737\n"
     ]
    }
   ],
   "source": [
    "print(int(query[0][0]))"
   ]
  },
  {
   "cell_type": "markdown",
   "id": "f49d46af",
   "metadata": {},
   "source": [
    "Б) В каком месяце года выручка от пользователей в возрастном диапазоне 35+ самая большая:"
   ]
  },
  {
   "cell_type": "code",
   "execution_count": 15,
   "id": "06aff3dd",
   "metadata": {},
   "outputs": [],
   "source": [
    "q1  = session.query(func.sum(Items.price)).join(Purchases, Purchases.itemid == Items.id).group_by(Purchases.date)\n",
    "query = session.query(func.max(q1), Purchases.date).join(Users, Users.age >= 35)"
   ]
  },
  {
   "cell_type": "code",
   "execution_count": 16,
   "id": "eac3e500",
   "metadata": {},
   "outputs": [
    {
     "name": "stdout",
     "output_type": "stream",
     "text": [
      "SELECT max((SELECT sum(items.price) AS sum_1 \n",
      "FROM items JOIN purchases ON purchases.itemid = items.id GROUP BY purchases.date)) AS max_1, purchases.date AS purchases_date \n",
      "FROM purchases JOIN users ON users.age >= ?\n"
     ]
    }
   ],
   "source": [
    "print(query)"
   ]
  },
  {
   "cell_type": "code",
   "execution_count": 17,
   "id": "e93112dc",
   "metadata": {},
   "outputs": [
    {
     "name": "stdout",
     "output_type": "stream",
     "text": [
      "2019-05\n"
     ]
    }
   ],
   "source": [
    "print(query[0][1])"
   ]
  },
  {
   "cell_type": "markdown",
   "id": "6e50be4e",
   "metadata": {},
   "source": [
    "В) какой товар дает наибольший вклад в выручку за последний год:"
   ]
  },
  {
   "cell_type": "code",
   "execution_count": 18,
   "id": "fb8e6fac",
   "metadata": {},
   "outputs": [],
   "source": [
    "past_tense = int(time.time()) - 31536000\n",
    "last_year = datetime.datetime.utcfromtimestamp(past_tense).strftime(\"%Y\")"
   ]
  },
  {
   "cell_type": "code",
   "execution_count": 41,
   "id": "055fe26e",
   "metadata": {},
   "outputs": [],
   "source": [
    "q1  = session.query(func.sum(Items.price)).join(Purchases, Purchases.itemid == Items.id).filter(Purchases.date >= last_year).group_by(Items.id)\n",
    "query = session.query(func.max(q1), Items.id)"
   ]
  },
  {
   "cell_type": "code",
   "execution_count": 42,
   "id": "40b15cc7",
   "metadata": {},
   "outputs": [
    {
     "name": "stdout",
     "output_type": "stream",
     "text": [
      "SELECT sum(items.price) AS sum_1 \n",
      "FROM items JOIN purchases ON purchases.itemid = items.id \n",
      "WHERE purchases.date >= ? GROUP BY items.id\n"
     ]
    }
   ],
   "source": [
    "print(q1)"
   ]
  },
  {
   "cell_type": "code",
   "execution_count": 43,
   "id": "4c284e3d",
   "metadata": {},
   "outputs": [
    {
     "name": "stdout",
     "output_type": "stream",
     "text": [
      "[(110160, 1)]\n"
     ]
    }
   ],
   "source": [
    "print(query.all())"
   ]
  },
  {
   "cell_type": "code",
   "execution_count": null,
   "id": "6361ed07",
   "metadata": {},
   "outputs": [],
   "source": []
  },
  {
   "cell_type": "code",
   "execution_count": null,
   "id": "e43a8d79",
   "metadata": {},
   "outputs": [],
   "source": []
  },
  {
   "cell_type": "code",
   "execution_count": null,
   "id": "cf99203d",
   "metadata": {},
   "outputs": [],
   "source": []
  },
  {
   "cell_type": "code",
   "execution_count": null,
   "id": "debc216f",
   "metadata": {},
   "outputs": [],
   "source": []
  }
 ],
 "metadata": {
  "kernelspec": {
   "display_name": "Python 3",
   "language": "python",
   "name": "python3"
  },
  "language_info": {
   "codemirror_mode": {
    "name": "ipython",
    "version": 3
   },
   "file_extension": ".py",
   "mimetype": "text/x-python",
   "name": "python",
   "nbconvert_exporter": "python",
   "pygments_lexer": "ipython3",
   "version": "3.8.8"
  }
 },
 "nbformat": 4,
 "nbformat_minor": 5
}
